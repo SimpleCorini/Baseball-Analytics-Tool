{
 "cells": [
  {
   "cell_type": "code",
   "execution_count": 13,
   "metadata": {},
   "outputs": [],
   "source": [
    "import requests\n",
    "from bs4 import BeautifulSoup\n",
    "import pandas as pd\n",
    "\n",
    "# 각 날짜의 데이터를 저장할 리스트\n",
    "games_data = []\n",
    "\n",
    "for game_code in range(20190010, 20191009):\n",
    "    url = f'https://statiz.sporki.com/schedule/?m=gamelogs&s_no={game_code}'\n",
    "    headers = {'User-Agent': 'Mozilla/5.0 (Windows NT 10.0; Win64; x64) AppleWebKit/537.36 (KHTML, like Gecko) Chrome/124.0.0.0 Safari/537.36'}\n",
    "\n",
    "    response = requests.post(url, headers=headers)  # 또는 requests.get() 사용\n",
    "\n",
    "    res = requests.get(url, headers=headers)\n",
    "    res.raise_for_status()\n",
    "\n",
    "    html = response.text\n",
    "\n",
    "    # 응답에서 데이터 추출\n",
    "    soup = BeautifulSoup(html, \"html.parser\")\n",
    "\n",
    "    box_divs = soup.find_all('div', class_='sh_box')\n",
    "    lineup_divs = box_divs[:2]\n",
    "\n",
    "    home_lineup = []\n",
    "    away_lineup = []\n",
    "\n",
    "    for i, div in enumerate(lineup_divs):\n",
    "        a_tags = div.find_all('a')\n",
    "        for a_tag in a_tags:\n",
    "            if i == 0:\n",
    "                home_lineup.append(a_tag.text)\n",
    "            else:\n",
    "                away_lineup.append(a_tag.text)\n",
    "\n",
    "    try:\n",
    "        score_divs = soup.find_all('div', class_='num')\n",
    "        away_score = score_divs[0].text.split(':')[0]\n",
    "        if away_score == '경기취소':\n",
    "            continue\n",
    "        home_score = score_divs[0].text.split(':')[1]\n",
    "    except:\n",
    "        continue    \n",
    "\n",
    "    head_divs = soup.find_all('div', class_='box_head')\n",
    "    home_team = head_divs[0].text.strip().split(',')[0]\n",
    "    away_team = head_divs[1].text.strip().split(',')[0]\n",
    "\n",
    "    # 날짜 데이터 추출\n",
    "    date_divs = soup.find_all('div', class_='txt')\n",
    "    game_date = date_divs[0].text.strip()\n",
    "    # 날짜 데이터 수정\n",
    "    game_date_parts = game_date.split(', ')\n",
    "    game_date = int('2019' + game_date_parts[1].replace('-', ''))\n",
    "    if game_date < 20190323 or game_date > 20191026:\n",
    "        continue\n",
    "\n",
    "    games_data.append([game_date, away_team, ', '.join(away_lineup), home_team, ', '.join(home_lineup), away_score, home_score])"
   ]
  },
  {
   "cell_type": "code",
   "execution_count": 14,
   "metadata": {},
   "outputs": [],
   "source": [
    "pd.set_option(\"display.max_rows\", None)\n",
    "pd.set_option(\"display.max_columns\", None)\n",
    "pd.set_option(\"display.max_colwidth\", None)\n",
    "\n",
    "df = pd.DataFrame(games_data, columns=['Game Date', 'Away Team', 'Away Lineup', 'Home Team', 'Home Lineup', 'Away Score', 'Home Score'])\n",
    "df.to_csv('match_record_2019.csv', index=False)"
   ]
  }
 ],
 "metadata": {
  "kernelspec": {
   "display_name": "Python 3 (ipykernel)",
   "language": "python",
   "name": "python3"
  },
  "language_info": {
   "codemirror_mode": {
    "name": "ipython",
    "version": 3
   },
   "file_extension": ".py",
   "mimetype": "text/x-python",
   "name": "python",
   "nbconvert_exporter": "python",
   "pygments_lexer": "ipython3",
   "version": "3.11.3"
  }
 },
 "nbformat": 4,
 "nbformat_minor": 2
}
